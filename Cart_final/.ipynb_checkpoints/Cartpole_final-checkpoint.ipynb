{
 "cells": [
  {
   "cell_type": "markdown",
   "metadata": {
    "id": "ZauhjPSfX7pI"
   },
   "source": [
    "# Tutorial and Sample Code for Balancing a Pole on a Cart"
   ]
  },
  {
   "cell_type": "markdown",
   "metadata": {
    "id": "UBiYOoesYMvr"
   },
   "source": [
    "## Installing dependencies:"
   ]
  },
  {
   "cell_type": "code",
   "execution_count": null,
   "metadata": {
    "colab": {
     "base_uri": "https://localhost:8080/"
    },
    "id": "PbgnVwZmX5uW",
    "outputId": "1b3fbd95-f856-4f15-a2b4-96df16b6b59b"
   },
   "outputs": [
    {
     "name": "stdout",
     "output_type": "stream",
     "text": [
      "Looking in indexes: https://pypi.org/simple, https://us-python.pkg.dev/colab-wheels/public/simple/\n",
      "Requirement already satisfied: gym[classic_control] in /usr/local/lib/python3.8/dist-packages (0.25.2)\n",
      "Requirement already satisfied: numpy>=1.18.0 in /usr/local/lib/python3.8/dist-packages (from gym[classic_control]) (1.21.6)\n",
      "Requirement already satisfied: cloudpickle>=1.2.0 in /usr/local/lib/python3.8/dist-packages (from gym[classic_control]) (2.2.1)\n",
      "Requirement already satisfied: gym-notices>=0.0.4 in /usr/local/lib/python3.8/dist-packages (from gym[classic_control]) (0.0.8)\n",
      "Requirement already satisfied: importlib-metadata>=4.8.0 in /usr/local/lib/python3.8/dist-packages (from gym[classic_control]) (6.0.0)\n",
      "Collecting pygame==2.1.0\n",
      "  Downloading pygame-2.1.0-cp38-cp38-manylinux_2_17_x86_64.manylinux2014_x86_64.whl (18.3 MB)\n",
      "\u001b[2K     \u001b[90m━━━━━━━━━━━━━━━━━━━━━━━━━━━━━━━━━━━━━━━━\u001b[0m \u001b[32m18.3/18.3 MB\u001b[0m \u001b[31m72.4 MB/s\u001b[0m eta \u001b[36m0:00:00\u001b[0m\n",
      "\u001b[?25hRequirement already satisfied: zipp>=0.5 in /usr/local/lib/python3.8/dist-packages (from importlib-metadata>=4.8.0->gym[classic_control]) (3.12.1)\n",
      "Installing collected packages: pygame\n",
      "Successfully installed pygame-2.1.0\n",
      "Looking in indexes: https://pypi.org/simple, https://us-python.pkg.dev/colab-wheels/public/simple/\n",
      "Requirement already satisfied: setuptools in /usr/local/lib/python3.8/dist-packages (57.4.0)\n",
      "Collecting setuptools\n",
      "  Downloading setuptools-67.3.1-py3-none-any.whl (1.1 MB)\n",
      "\u001b[2K     \u001b[90m━━━━━━━━━━━━━━━━━━━━━━━━━━━━━━━━━━━━━━━━\u001b[0m \u001b[32m1.1/1.1 MB\u001b[0m \u001b[31m15.8 MB/s\u001b[0m eta \u001b[36m0:00:00\u001b[0m\n",
      "\u001b[?25hInstalling collected packages: setuptools\n",
      "  Attempting uninstall: setuptools\n",
      "    Found existing installation: setuptools 57.4.0\n",
      "    Uninstalling setuptools-57.4.0:\n",
      "      Successfully uninstalled setuptools-57.4.0\n",
      "\u001b[31mERROR: pip's dependency resolver does not currently take into account all the packages that are installed. This behaviour is the source of the following dependency conflicts.\n",
      "ipython 7.9.0 requires jedi>=0.10, which is not installed.\n",
      "cvxpy 1.2.3 requires setuptools<=64.0.2, but you have setuptools 67.3.1 which is incompatible.\u001b[0m\u001b[31m\n",
      "\u001b[0mSuccessfully installed setuptools-67.3.1\n"
     ]
    }
   ],
   "source": [
    "!apt-get install -y xvfb python-opengl > /dev/null 2>&1\n",
    "!pip install gym pyvirtualdisplay > /dev/null 2>&1\n",
    "!pip install gym pyvirtualdisplay > /dev/null 2>&1\n",
    "!apt-get install -y xvfb python-opengl ffmpeg > /dev/null 2>&1\n",
    "!pip install gym[classic_control]\n",
    "!apt-get update > /dev/null 2>&1\n",
    "!apt-get install cmake > /dev/null 2>&1\n",
    "!pip install --upgrade setuptools 2>&1\n",
    "!pip install ez_setup > /dev/null 2>&1"
   ]
  },
  {
   "cell_type": "markdown",
   "metadata": {
    "id": "RwKbYeTgbaTA"
   },
   "source": [
    "## Importing dependencies and define helper functions"
   ]
  },
  {
   "cell_type": "code",
   "execution_count": 3,
   "metadata": {
    "id": "j6KpgCLGYWmj"
   },
   "outputs": [],
   "source": [
    "import gym\n",
    "from gym import logger as gymlogger\n",
    "from gym.wrappers import RecordVideo\n",
    "gymlogger.set_level(40) #error only\n",
    "#import tensorflow as tf\n",
    "#from tensorflow import keras\n",
    "import numpy as np\n",
    "import random\n",
    "import matplotlib\n",
    "import matplotlib.pyplot as plt\n",
    "%matplotlib inline\n",
    "import math\n",
    "import glob\n",
    "import io\n",
    "import base64\n",
    "from IPython.display import HTML\n",
    "from IPython import display as ipythondisplay\n",
    "\n",
    "def show_video():\n",
    "  mp4list = glob.glob('video/*.mp4')\n",
    "  if len(mp4list) > 0:\n",
    "    mp4 = mp4list[0]\n",
    "    video = io.open(mp4, 'r+b').read()\n",
    "    encoded = base64.b64encode(video)\n",
    "    ipythondisplay.display(HTML(data='''<video alt=\"test\" autoplay \n",
    "                loop controls style=\"height: 400px;\">\n",
    "                <source src=\"data:video/mp4;base64,{0}\" type=\"video/mp4\" />\n",
    "             </video>'''.format(encoded.decode('ascii'))))\n",
    "  else: \n",
    "    print(\"Could not find video\")"
   ]
  },
  {
   "cell_type": "code",
   "execution_count": null,
   "metadata": {
    "colab": {
     "base_uri": "https://localhost:8080/"
    },
    "id": "456wZxIjlLxr",
    "outputId": "a942e36f-8a49-4fbb-bf83-4410ba9e7aa0"
   },
   "outputs": [],
   "source": [
    "from google.colab import drive\n",
    "drive.mount('/content/drive')"
   ]
  },
  {
   "cell_type": "markdown",
   "metadata": {
    "id": "ehbqP9CXbmo7"
   },
   "source": [
    "## Tutorial: Loading CartPole environment"
   ]
  },
  {
   "cell_type": "code",
   "execution_count": 4,
   "metadata": {
    "id": "Go12dH4qbwBy"
   },
   "outputs": [],
   "source": [
    "env = gym.make(\"CartPole-v1\")"
   ]
  },
  {
   "cell_type": "markdown",
   "metadata": {
    "id": "9XZ9g3xrcAXE"
   },
   "source": [
    "We can check the action and observation space of this environment. Discrete(2) means that there are two valid discrete actions: 0 & 1."
   ]
  },
  {
   "cell_type": "code",
   "execution_count": 5,
   "metadata": {
    "colab": {
     "base_uri": "https://localhost:8080/"
    },
    "id": "ytxvVmLdcRyw",
    "outputId": "586ccb76-90cc-4566-cd87-4db19cd64965"
   },
   "outputs": [
    {
     "name": "stdout",
     "output_type": "stream",
     "text": [
      "Discrete(2)\n"
     ]
    }
   ],
   "source": [
    "print(env.action_space)"
   ]
  },
  {
   "cell_type": "markdown",
   "metadata": {
    "id": "pVXGWi_Ncfg-"
   },
   "source": [
    "The observation space is given below. The first two arrays define the min and max values of the 4 observed values, corresponding to cart position, velocity and pole angle, angular velocity."
   ]
  },
  {
   "cell_type": "code",
   "execution_count": 6,
   "metadata": {
    "colab": {
     "base_uri": "https://localhost:8080/"
    },
    "id": "DyqHr9I5cdkX",
    "outputId": "34047b25-b23a-4e57-ce12-5fabec163cd3"
   },
   "outputs": [
    {
     "name": "stdout",
     "output_type": "stream",
     "text": [
      "Box([-4.8000002e+00 -3.4028235e+38 -4.1887903e-01 -3.4028235e+38], [4.8000002e+00 3.4028235e+38 4.1887903e-01 3.4028235e+38], (4,), float32)\n"
     ]
    }
   ],
   "source": [
    "print(env.observation_space)"
   ]
  },
  {
   "cell_type": "markdown",
   "metadata": {
    "id": "HFOdaU2Gdyg0"
   },
   "source": [
    "We call each round of the pole-balancing game an \"episode\". At the start of each episode, make sure the environment is reset, which chooses a random initial state, e.g., pole slightly tilted to the right. This initialization can be achieved by the code below, which returns the observation of the initial state."
   ]
  },
  {
   "cell_type": "code",
   "execution_count": 7,
   "metadata": {
    "colab": {
     "base_uri": "https://localhost:8080/"
    },
    "id": "VMr6qAqxdOsm",
    "outputId": "3f6bbb41-d297-4aea-cd56-39691829f418"
   },
   "outputs": [
    {
     "name": "stdout",
     "output_type": "stream",
     "text": [
      "Initial observations: [-0.02315333 -0.0355081  -0.03393207  0.02157878]\n"
     ]
    }
   ],
   "source": [
    "observation, _ = env.reset()\n",
    "print(\"Initial observations:\", observation)"
   ]
  },
  {
   "cell_type": "markdown",
   "metadata": {
    "id": "qnG2QdfbeZrI"
   },
   "source": [
    "For the CartPole environment, there are two possible actions: 0 for pushing to the left and 1 for pushing to the right. For example, we can push the cart to the left using code below, which returns the new observation, the current reward, an indicator of whether the game ends, and some additional information (not used in this project). For CartPole, the game ends when the pole is significantly tilted or you manage to balance the pole for 500 steps. You get exactly 1 reward for each step before the game ends (i.e., max cumulative reward is 500)."
   ]
  },
  {
   "cell_type": "code",
   "execution_count": 8,
   "metadata": {
    "colab": {
     "base_uri": "https://localhost:8080/"
    },
    "id": "MmfMDvyYdWGk",
    "outputId": "5f83b32c-c08a-487e-f809-3de345aaa0bd"
   },
   "outputs": [
    {
     "name": "stdout",
     "output_type": "stream",
     "text": [
      "New observations after choosing action 0: [-0.02386349 -0.23012741 -0.0335005   0.3033656 ]\n",
      "Reward for this step: 1.0\n",
      "Is this round done? False\n"
     ]
    }
   ],
   "source": [
    "observation, reward, done, info, _ = env.step(0)\n",
    "print(\"New observations after choosing action 0:\", observation)\n",
    "print(\"Reward for this step:\", reward)\n",
    "print(\"Is this round done?\", done)"
   ]
  },
  {
   "cell_type": "markdown",
   "metadata": {
    "id": "tj0zCh59fhBb"
   },
   "source": [
    "Now we can play a full round of the game using a naive strategy (always choosing action 0), and show the cumulative reward in the round. Note that reward returned by env.step(*) corresponds to the reward for current step. So we have to accumulate the reward for each step. Clearly, the naive strategy performs poorly by surviving only a dozen of steps."
   ]
  },
  {
   "cell_type": "code",
   "execution_count": 9,
   "metadata": {
    "colab": {
     "base_uri": "https://localhost:8080/"
    },
    "id": "AVucQVRwf6Jm",
    "outputId": "a7e0dd25-dd0b-43c7-ce58-df435339ad5c"
   },
   "outputs": [
    {
     "name": "stdout",
     "output_type": "stream",
     "text": [
      "Cumulative reward for this round: 8.0\n"
     ]
    }
   ],
   "source": [
    "observation = env.reset()[0]\n",
    "cumulative_reward = 0\n",
    "done = False\n",
    "while not done:\n",
    "    observation, reward, done, info, _ = env.step(0)\n",
    "    cumulative_reward += reward\n",
    "print(\"Cumulative reward for this round:\", cumulative_reward)"
   ]
  },
  {
   "cell_type": "markdown",
   "metadata": {
    "id": "P7rdHYvh31_9"
   },
   "source": [
    "# IMPORTANT NOTES: PLEASE READ"
   ]
  },
  {
   "cell_type": "markdown",
   "metadata": {
    "id": "3El-kxN02zl1"
   },
   "source": [
    "# **Important: This notebook runs on gym version 0.26.2**, if using gym version 0.25.x, \n",
    "\n",
    "1.   Change state, _ = env.reset() to just state = env.reset()\n",
    "2.   Change observation_, reward, done, info, _ = env.step(action) to observation_, reward, done, info = env.step(action)\n",
    "\n",
    "\n",
    "\n"
   ]
  },
  {
   "cell_type": "markdown",
   "metadata": {
    "id": "1TbubmWV3_B5"
   },
   "source": [
    "## To train the agent, a CUDA enabled GPU is required. This Agent was originally trained with a RTX 2070 SUPER GPU"
   ]
  },
  {
   "cell_type": "markdown",
   "metadata": {
    "id": "2oIzK9SzhlWN"
   },
   "source": [
    "## Task 1: Development of an RL agent"
   ]
  },
  {
   "cell_type": "markdown",
   "metadata": {
    "id": "KqqD76J940gt"
   },
   "source": [
    "## Agent source citation:\n",
    "The agent used Deep Q-Learning with Experience Replay based on this paper \"[Playing Atari with Deep Reinforcement Learning](https://arxiv.org/pdf/1312.5602.pdf)\" published by DeepMind. A brief overview of the method would be given below later.\n",
    "\n",
    "## Code source citation:\n",
    "The Agent was implemented with PyTorch, and code used was heavily inspired by our group member Teng Yao Long's current URECA research project, which involves  Deep Reinforcement Learning methods such as DQNs and DDPGs."
   ]
  },
  {
   "cell_type": "markdown",
   "metadata": {
    "id": "e4wNSxle7wXN"
   },
   "source": [
    "# Algorithm used:"
   ]
  },
  {
   "cell_type": "markdown",
   "metadata": {
    "id": "jBXli5p_7EYD"
   },
   "source": [
    "![QLearningAlgo.png](data:image/png;base64,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)"
   ]
  },
  {
   "cell_type": "markdown",
   "metadata": {
    "id": "83Kc77qu8p_H"
   },
   "source": [
    "#### In this implementation, we did not clone a target network and conduct soft/ hard updates every k steps to prevent the Q-value from \"chasing itself\". This results in some instability and catastrophic forgetting, which you will see in the score graph later. Nevertheless, we are able to achieve the best score (500) relatively quickly without a cloned target network.\n",
    "\n",
    "#### However, we do recognise that one of the downsides of Deep RL methods is that they are very unstable, and target networks would be required on more complex tasks."
   ]
  },
  {
   "cell_type": "markdown",
   "metadata": {
    "id": "bvuOsbWi96hb"
   },
   "source": [
    "# **Explanation:**"
   ]
  },
  {
   "cell_type": "markdown",
   "metadata": {
    "id": "Z2pvPH8Y73I5"
   },
   "source": [
    "\n",
    "\n",
    "### A DQN, or Deep Q-Network, approximates a state-value function in a Q-Learning framework directly with a neural network. The TD update is gradually shifting the Q value for (s,a) towards r+max a Q(s′,a). It eventually converges to the optimal Q-function.\n",
    "\n",
    "\n",
    "### This is used in conjunction with Experience Replay for storing the episode steps in memory for off-policy learning, where samples are drawn from the replay memory at random. Taking samples in a row from an environment would clearly be correlated, and subject to distributional shift. The original motivation for using a replay memory was to “alleviate the problems of correlated data and non-stationary distributions” by “smooth[ing] the training distribution over many past behaviors”.\n",
    "\n",
    "\n"
   ]
  },
  {
   "cell_type": "code",
   "execution_count": null,
   "metadata": {
    "id": "weL-r9xdwsKz"
   },
   "outputs": [],
   "source": [
    "import os\n",
    "import torch as T\n",
    "import torch.nn as nn\n",
    "import torch.nn.functional as F\n",
    "import torch.optim as optim\n",
    "import numpy as np\n"
   ]
  },
  {
   "cell_type": "code",
   "execution_count": null,
   "metadata": {
    "id": "Hk-M4QEfh6l5"
   },
   "outputs": [],
   "source": [
    "class DeepQNetwork(nn.Module):\n",
    "    def __init__(self, beta, input_dims, fc1_dims, fc2_dims, n_actions, name,\n",
    "                 chkpt_dir='/content/drive/MyDrive/Cartpole_best/models'):\n",
    "        super(DeepQNetwork, self).__init__()\n",
    "        self.input_dims = input_dims\n",
    "        self.fc1_dims = fc1_dims\n",
    "        self.fc2_dims = fc2_dims\n",
    "        self.n_actions = n_actions\n",
    "        self.checkpoint_file = os.path.join(chkpt_dir,name+'_dqn.pt')\n",
    "        self.fc1 = nn.Linear(*(self.input_dims), self.fc1_dims)\n",
    "        f1 = 1./np.sqrt(self.fc1.weight.data.size()[0])\n",
    "        T.nn.init.uniform_(self.fc1.weight.data, -f1, f1)\n",
    "        T.nn.init.uniform_(self.fc1.bias.data, -f1, f1)\n",
    "        #self.fc1.weight.data.uniform_(-f1, f1)\n",
    "        #self.fc1.bias.data.uniform_(-f1, f1)\n",
    "        self.bn1 = nn.LayerNorm(self.fc1_dims)\n",
    "\n",
    "        self.fc2 = nn.Linear(self.fc1_dims, self.fc2_dims)\n",
    "        f2 = 1./np.sqrt(self.fc2.weight.data.size()[0])\n",
    "        #f2 = 0.002\n",
    "        T.nn.init.uniform_(self.fc2.weight.data, -f2, f2)\n",
    "        T.nn.init.uniform_(self.fc2.bias.data, -f2, f2)\n",
    "        #self.fc2.weight.data.uniform_(-f2, f2)\n",
    "        #self.fc2.bias.data.uniform_(-f2, f2)\n",
    "        self.bn2 = nn.LayerNorm(self.fc2_dims)\n",
    "\n",
    "        f3 = 0.003\n",
    "        self.q = nn.Linear(self.fc2_dims, n_actions)\n",
    "        T.nn.init.uniform_(self.q.weight.data, -f3, f3)\n",
    "        T.nn.init.uniform_(self.q.bias.data, -f3, f3)\n",
    "        #self.q.weight.data.uniform_(-f3, f3)\n",
    "        #self.q.bias.data.uniform_(-f3, f3)\n",
    "\n",
    "        self.loss = nn.MSELoss()\n",
    "        self.optimizer = optim.Adam(self.parameters(), lr=beta)\n",
    "        self.device = T.device('cuda:0' if T.cuda.is_available() else 'cuda:1')\n",
    "        self.to(self.device)\n",
    "\n",
    "\n",
    "    def forward(self, state):\n",
    "        x = self.fc1(state)\n",
    "        x = self.bn1(x)\n",
    "        x = F.relu(x)\n",
    "        x = self.fc2(x)\n",
    "        x = self.bn2(x)\n",
    "        x = F.relu(x)\n",
    "        q_values = self.q(x)\n",
    "        return q_values\n",
    "\n",
    "    def save_checkpoint(self):\n",
    "        print('... saving checkpoint ...')\n",
    "        T.save(self.state_dict(), self.checkpoint_file)\n",
    "\n",
    "    def load_checkpoint(self):\n",
    "        print('... loading checkpoint ...')\n",
    "        self.load_state_dict(T.load(self.checkpoint_file))\n",
    "\n",
    "class Agent:\n",
    "    def __init__(self, gamma, epsilon, lr, input_dims, batch_size, n_actions,\n",
    "                 max_mem_size=100000, eps_end=0.05, eps_dec=5e-4):\n",
    "        self.gamma = gamma\n",
    "        self.epsilon = epsilon\n",
    "        self.eps_min = eps_end\n",
    "        self.eps_dec = eps_dec\n",
    "        self.lr = lr\n",
    "        self.action_space = [i for i in range(n_actions)]\n",
    "        self.mem_size = max_mem_size\n",
    "        self.batch_size = batch_size\n",
    "        self.mem_cntr = 0\n",
    "        self.iter_cntr = 0\n",
    "        self.replace_target = 50\n",
    "\n",
    "        self.Q_eval = DeepQNetwork(lr, n_actions=n_actions,\n",
    "                                   input_dims=input_dims,\n",
    "                                   fc1_dims=256, fc2_dims=256, name='Q_Network')\n",
    "        self.Target_Q_network = DeepQNetwork(lr, n_actions=n_actions,\n",
    "                                           input_dims=input_dims,\n",
    "                                           fc1_dims=256, fc2_dims=256, name='Target_Q_Network')\n",
    "\n",
    "        self.state_memory = np.zeros((self.mem_size, *input_dims),\n",
    "                                     dtype=np.float32)\n",
    "        self.new_state_memory = np.zeros((self.mem_size, *input_dims),\n",
    "                                         dtype=np.float32)\n",
    "        self.action_memory = np.zeros(self.mem_size, dtype=np.int32)\n",
    "        self.reward_memory = np.zeros(self.mem_size, dtype=np.float32)\n",
    "        self.terminal_memory = np.zeros(self.mem_size, dtype=np.bool)\n",
    "\n",
    "        self.Target_Q_network.load_state_dict(self.Q_eval.state_dict())\n",
    "\n",
    "    def store_transition(self, state, action, reward, state_, terminal):\n",
    "        index = self.mem_cntr % self.mem_size\n",
    "        self.state_memory[index] = state\n",
    "        self.new_state_memory[index] = state_\n",
    "        self.reward_memory[index] = reward\n",
    "        self.action_memory[index] = action\n",
    "        self.terminal_memory[index] = terminal\n",
    "\n",
    "        self.mem_cntr += 1\n",
    "\n",
    "    def choose_action(self, observation):\n",
    "        if np.random.random() > self.epsilon:\n",
    "            state = T.tensor(np.array(observation)).to(self.Q_eval.device)\n",
    "            actions = self.Q_eval.forward(state)\n",
    "            action = T.argmax(actions).item()\n",
    "        else:\n",
    "            action = np.random.choice(self.action_space)\n",
    "\n",
    "        return action\n",
    "    \n",
    "    def choose_action_test_stage(self, observation):\n",
    "\n",
    "        state = T.tensor(np.array(observation)).to(self.Q_eval.device)\n",
    "        actions = self.Q_eval.forward(state)\n",
    "        action = T.argmax(actions).item()\n",
    "\n",
    "        return action\n",
    "    \n",
    "    def learn(self):\n",
    "        if self.mem_cntr < self.batch_size:\n",
    "            return\n",
    "\n",
    "        self.Q_eval.optimizer.zero_grad()\n",
    "\n",
    "        max_mem = min(self.mem_cntr, self.mem_size)\n",
    "        batch = np.random.choice(max_mem, self.batch_size, replace=False)\n",
    "        batch_index = np.arange(self.batch_size, dtype=np.int32)\n",
    "\n",
    "        state_batch = T.tensor(self.state_memory[batch]).to(self.Q_eval.device)\n",
    "        new_state_batch = T.tensor(\n",
    "            self.new_state_memory[batch]).to(self.Q_eval.device)\n",
    "        action_batch = self.action_memory[batch]\n",
    "        reward_batch = T.tensor(\n",
    "            self.reward_memory[batch]).to(self.Q_eval.device)\n",
    "        terminal_batch = T.tensor(\n",
    "            self.terminal_memory[batch]).to(self.Q_eval.device)\n",
    "\n",
    "        q_eval = self.Q_eval.forward(state_batch)[batch_index, action_batch]\n",
    "        q_next = self.Target_Q_network.forward(new_state_batch)\n",
    "        q_next[terminal_batch] = 0.0\n",
    "        q_target = reward_batch + self.gamma * T.max(q_next, dim=1)[0]\n",
    "\n",
    "        loss = self.Q_eval.loss(q_target, q_eval).to(self.Q_eval.device)\n",
    "        loss.backward()\n",
    "        self.Q_eval.optimizer.step()\n",
    "\n",
    "        self.iter_cntr += 1\n",
    "\n",
    "        # Periodically update the target network by Q network to target Q network\n",
    "        if self.iter_cntr % self.replace_target == 0:\n",
    "            self.Target_Q_network.load_state_dict(self.Q_eval.state_dict())\n",
    "\n",
    "        self.epsilon = self.epsilon - self.eps_dec \\\n",
    "            if self.epsilon > self.eps_min else self.eps_min\n",
    "\n",
    "    def save_models(self):\n",
    "        self.Q_eval.save_checkpoint()\n",
    "        self.Target_Q_network.save_checkpoint()\n",
    "\n",
    "    def load_models(self):\n",
    "        self.Q_eval.load_checkpoint()\n",
    "        self.Target_Q_network.load_checkpoint()\n",
    "        "
   ]
  },
  {
   "cell_type": "markdown",
   "metadata": {
    "id": "RAi7KKwNiegR"
   },
   "source": [
    "For Task 1, we can show the observation and chosen action below:"
   ]
  },
  {
   "cell_type": "markdown",
   "metadata": {
    "id": "-XtIQ0Rti1gm"
   },
   "source": [
    "## Task 2: Demonstrate the effectiveness of the RL agent"
   ]
  },
  {
   "cell_type": "markdown",
   "metadata": {
    "id": "djBEShf0kGI4"
   },
   "source": [
    "For this task, use the agent developed in Task 1 to play the game for 100 episodes (refer to tutorial for how to play a round), record the cumulative reward for each round, and plot the reward for each round. A sample plotting code is given below. Note that you must include code to play for 100 episodes and use the code to obtain round_results for plotting. DO NOT record the round results in advance and paste the results to the notebook."
   ]
  },
  {
   "cell_type": "markdown",
   "metadata": {
    "id": "AaTk-cH7ATeO"
   },
   "source": [
    "# We will first train the agent until it achieves the best score (500) consistently."
   ]
  },
  {
   "cell_type": "code",
   "execution_count": null,
   "metadata": {
    "colab": {
     "base_uri": "https://localhost:8080/"
    },
    "id": "RZrCKywQi6CE",
    "outputId": "c71fa5bd-7051-4a6f-963a-66dcc809701b"
   },
   "outputs": [
    {
     "name": "stderr",
     "output_type": "stream",
     "text": [
      "C:\\Users\\Admin\\AppData\\Local\\Temp\\ipykernel_5692\\3387475145.py:86: DeprecationWarning: `np.bool` is a deprecated alias for the builtin `bool`. To silence this warning, use `bool` by itself. Doing this will not modify any behavior and is safe. If you specifically wanted the numpy scalar type, use `np.bool_` here.\n",
      "Deprecated in NumPy 1.20; for more details and guidance: https://numpy.org/devdocs/release/1.20.0-notes.html#deprecations\n",
      "  self.terminal_memory = np.zeros(self.mem_size, dtype=np.bool)\n"
     ]
    },
    {
     "name": "stdout",
     "output_type": "stream",
     "text": [
      "episode  0 score 20.00 trailing 100 games avg 20.000\n",
      "episode  1 score 18.00 trailing 100 games avg 19.000\n",
      "episode  2 score 30.00 trailing 100 games avg 22.667\n",
      "episode  3 score 129.00 trailing 100 games avg 49.250\n",
      "episode  4 score 35.00 trailing 100 games avg 46.400\n",
      "episode  5 score 67.00 trailing 100 games avg 49.833\n",
      "episode  6 score 77.00 trailing 100 games avg 53.714\n",
      "episode  7 score 40.00 trailing 100 games avg 52.000\n",
      "episode  8 score 154.00 trailing 100 games avg 63.333\n",
      "episode  9 score 156.00 trailing 100 games avg 72.600\n",
      "episode  10 score 500.00 trailing 100 games avg 111.455\n",
      "episode  11 score 450.00 trailing 100 games avg 139.667\n",
      "episode  12 score 500.00 trailing 100 games avg 167.385\n",
      "episode  13 score 500.00 trailing 100 games avg 191.143\n",
      "episode  14 score 342.00 trailing 100 games avg 201.200\n",
      "episode  15 score 201.00 trailing 100 games avg 201.188\n",
      "episode  16 score 431.00 trailing 100 games avg 214.706\n",
      "episode  17 score 182.00 trailing 100 games avg 212.889\n",
      "episode  18 score 155.00 trailing 100 games avg 209.842\n",
      "episode  19 score 177.00 trailing 100 games avg 208.200\n",
      "episode  20 score 482.00 trailing 100 games avg 221.238\n",
      "episode  21 score 205.00 trailing 100 games avg 220.500\n",
      "episode  22 score 415.00 trailing 100 games avg 228.957\n",
      "episode  23 score 190.00 trailing 100 games avg 227.333\n",
      "episode  24 score 495.00 trailing 100 games avg 238.040\n",
      "episode  25 score 500.00 trailing 100 games avg 248.115\n",
      "episode  26 score 453.00 trailing 100 games avg 255.704\n",
      "episode  27 score 388.00 trailing 100 games avg 260.429\n",
      "episode  28 score 500.00 trailing 100 games avg 268.690\n",
      "episode  29 score 473.00 trailing 100 games avg 275.500\n",
      "episode  30 score 500.00 trailing 100 games avg 282.742\n",
      "episode  31 score 184.00 trailing 100 games avg 279.656\n",
      "episode  32 score 500.00 trailing 100 games avg 286.333\n",
      "episode  33 score 500.00 trailing 100 games avg 292.618\n",
      "episode  34 score 262.00 trailing 100 games avg 291.743\n",
      "episode  35 score 500.00 trailing 100 games avg 297.528\n",
      "episode  36 score 495.00 trailing 100 games avg 302.865\n",
      "episode  37 score 500.00 trailing 100 games avg 308.053\n",
      "episode  38 score 500.00 trailing 100 games avg 312.974\n",
      "episode  39 score 500.00 trailing 100 games avg 317.650\n",
      "episode  40 score 468.00 trailing 100 games avg 321.317\n",
      "episode  41 score 326.00 trailing 100 games avg 321.429\n",
      "episode  42 score 500.00 trailing 100 games avg 325.581\n",
      "episode  43 score 500.00 trailing 100 games avg 329.545\n",
      "episode  44 score 337.00 trailing 100 games avg 329.711\n",
      "episode  45 score 458.00 trailing 100 games avg 332.500\n",
      "episode  46 score 491.00 trailing 100 games avg 335.872\n",
      "episode  47 score 223.00 trailing 100 games avg 333.521\n",
      "episode  48 score 500.00 trailing 100 games avg 336.918\n",
      "episode  49 score 491.00 trailing 100 games avg 340.000\n",
      "episode  50 score 421.00 trailing 100 games avg 341.588\n",
      "episode  51 score 461.00 trailing 100 games avg 343.885\n",
      "episode  52 score 405.00 trailing 100 games avg 345.038\n",
      "episode  53 score 403.00 trailing 100 games avg 346.111\n",
      "episode  54 score 191.00 trailing 100 games avg 343.291\n",
      "episode  55 score 372.00 trailing 100 games avg 343.804\n",
      "episode  56 score 176.00 trailing 100 games avg 340.860\n",
      "episode  57 score 500.00 trailing 100 games avg 343.603\n",
      "episode  58 score 500.00 trailing 100 games avg 346.254\n",
      "episode  59 score 208.00 trailing 100 games avg 343.950\n",
      "episode  60 score 186.00 trailing 100 games avg 341.361\n",
      "episode  61 score 500.00 trailing 100 games avg 343.919\n",
      "episode  62 score 206.00 trailing 100 games avg 341.730\n",
      "episode  63 score 380.00 trailing 100 games avg 342.328\n",
      "episode  64 score 171.00 trailing 100 games avg 339.692\n",
      "episode  65 score 149.00 trailing 100 games avg 336.803\n",
      "episode  66 score 386.00 trailing 100 games avg 337.537\n",
      "episode  67 score 147.00 trailing 100 games avg 334.735\n",
      "episode  68 score 368.00 trailing 100 games avg 335.217\n",
      "episode  69 score 280.00 trailing 100 games avg 334.429\n",
      "episode  70 score 395.00 trailing 100 games avg 335.282\n",
      "episode  71 score 164.00 trailing 100 games avg 332.903\n",
      "episode  72 score 217.00 trailing 100 games avg 331.315\n",
      "episode  73 score 500.00 trailing 100 games avg 333.595\n",
      "episode  74 score 500.00 trailing 100 games avg 335.813\n",
      "episode  75 score 202.00 trailing 100 games avg 334.053\n",
      "episode  76 score 194.00 trailing 100 games avg 332.234\n",
      "episode  77 score 500.00 trailing 100 games avg 334.385\n",
      "episode  78 score 406.00 trailing 100 games avg 335.291\n",
      "episode  79 score 500.00 trailing 100 games avg 337.350\n",
      "episode  80 score 500.00 trailing 100 games avg 339.358\n",
      "episode  81 score 352.00 trailing 100 games avg 339.512\n",
      "episode  82 score 500.00 trailing 100 games avg 341.446\n",
      "episode  83 score 468.00 trailing 100 games avg 342.952\n",
      "episode  84 score 500.00 trailing 100 games avg 344.800\n",
      "episode  85 score 198.00 trailing 100 games avg 343.093\n",
      "episode  86 score 259.00 trailing 100 games avg 342.126\n",
      "episode  87 score 122.00 trailing 100 games avg 339.625\n",
      "episode  88 score 165.00 trailing 100 games avg 337.663\n",
      "episode  89 score 500.00 trailing 100 games avg 339.467\n",
      "episode  90 score 163.00 trailing 100 games avg 337.527\n",
      "episode  91 score 500.00 trailing 100 games avg 339.293\n",
      "episode  92 score 500.00 trailing 100 games avg 341.022\n",
      "episode  93 score 500.00 trailing 100 games avg 342.713\n",
      "episode  94 score 500.00 trailing 100 games avg 344.368\n",
      "episode  95 score 500.00 trailing 100 games avg 345.990\n",
      "episode  96 score 500.00 trailing 100 games avg 347.577\n",
      "episode  97 score 457.00 trailing 100 games avg 348.694\n",
      "episode  98 score 500.00 trailing 100 games avg 350.222\n",
      "episode  99 score 500.00 trailing 100 games avg 351.720\n"
     ]
    }
   ],
   "source": [
    "\n",
    "agent = Agent(gamma=0.99, epsilon=1.0, batch_size=64, n_actions=2, eps_end=0.01,\n",
    "              input_dims=[4], lr=0.001)\n",
    "scores, score_history = [], []\n",
    "n_games = 100\n",
    "\n",
    "for i in range(n_games):\n",
    "    score = 0\n",
    "    done = False\n",
    "    observation, _ = env.reset()\n",
    "    for j in range(500):\n",
    "        action = agent.choose_action(observation)\n",
    "        observation_, reward, done, info, _ = env.step(action)\n",
    "        score += reward\n",
    "        agent.store_transition(observation, action, reward,\n",
    "                               observation_, done)\n",
    "        agent.learn()\n",
    "        observation = observation_\n",
    "        env.render()\n",
    "\n",
    "    score_history.append(score)\n",
    "    print('episode ', i, 'score %.2f' % score,\n",
    "          'trailing 100 games avg %.3f' % np.mean(score_history[-100:]))\n",
    "\n",
    "#agent.save_models()\n",
    "#agent.load_models()\n"
   ]
  },
  {
   "cell_type": "code",
   "execution_count": null,
   "metadata": {
    "id": "PMO2dNxtwsK0",
    "outputId": "b53a25ae-eb2a-48a2-a326-2179738ed62d"
   },
   "outputs": [
    {
     "name": "stdout",
     "output_type": "stream",
     "text": [
      "... saving checkpoint ...\n",
      "... saving checkpoint ...\n"
     ]
    }
   ],
   "source": [
    "agent.save_models()"
   ]
  },
  {
   "cell_type": "markdown",
   "metadata": {
    "id": "r4DvJo7rAhz6"
   },
   "source": [
    "# We proceed to test the Agent for 100 episodes"
   ]
  },
  {
   "cell_type": "code",
   "execution_count": null,
   "metadata": {
    "id": "KMBZvHCKwsK0",
    "outputId": "210bcca0-c2da-4972-be9f-11d53fb1e3b1"
   },
   "outputs": [
    {
     "name": "stdout",
     "output_type": "stream",
     "text": [
      "episode  0 score 500.00 trailing 100 games avg 500.000\n",
      "episode  1 score 500.00 trailing 100 games avg 500.000\n",
      "episode  2 score 500.00 trailing 100 games avg 500.000\n",
      "episode  3 score 500.00 trailing 100 games avg 500.000\n",
      "episode  4 score 500.00 trailing 100 games avg 500.000\n",
      "episode  5 score 500.00 trailing 100 games avg 500.000\n",
      "episode  6 score 500.00 trailing 100 games avg 500.000\n",
      "episode  7 score 500.00 trailing 100 games avg 500.000\n",
      "episode  8 score 500.00 trailing 100 games avg 500.000\n",
      "episode  9 score 500.00 trailing 100 games avg 500.000\n",
      "episode  10 score 500.00 trailing 100 games avg 500.000\n",
      "episode  11 score 500.00 trailing 100 games avg 500.000\n",
      "episode  12 score 500.00 trailing 100 games avg 500.000\n",
      "episode  13 score 500.00 trailing 100 games avg 500.000\n",
      "episode  14 score 500.00 trailing 100 games avg 500.000\n",
      "episode  15 score 500.00 trailing 100 games avg 500.000\n",
      "episode  16 score 500.00 trailing 100 games avg 500.000\n",
      "episode  17 score 500.00 trailing 100 games avg 500.000\n",
      "episode  18 score 500.00 trailing 100 games avg 500.000\n",
      "episode  19 score 500.00 trailing 100 games avg 500.000\n",
      "episode  20 score 500.00 trailing 100 games avg 500.000\n",
      "episode  21 score 500.00 trailing 100 games avg 500.000\n",
      "episode  22 score 500.00 trailing 100 games avg 500.000\n",
      "episode  23 score 500.00 trailing 100 games avg 500.000\n",
      "episode  24 score 500.00 trailing 100 games avg 500.000\n",
      "episode  25 score 500.00 trailing 100 games avg 500.000\n",
      "episode  26 score 500.00 trailing 100 games avg 500.000\n",
      "episode  27 score 500.00 trailing 100 games avg 500.000\n",
      "episode  28 score 500.00 trailing 100 games avg 500.000\n",
      "episode  29 score 500.00 trailing 100 games avg 500.000\n",
      "episode  30 score 500.00 trailing 100 games avg 500.000\n",
      "episode  31 score 500.00 trailing 100 games avg 500.000\n",
      "episode  32 score 500.00 trailing 100 games avg 500.000\n",
      "episode  33 score 500.00 trailing 100 games avg 500.000\n",
      "episode  34 score 500.00 trailing 100 games avg 500.000\n",
      "episode  35 score 500.00 trailing 100 games avg 500.000\n",
      "episode  36 score 500.00 trailing 100 games avg 500.000\n",
      "episode  37 score 500.00 trailing 100 games avg 500.000\n",
      "episode  38 score 500.00 trailing 100 games avg 500.000\n",
      "episode  39 score 500.00 trailing 100 games avg 500.000\n",
      "episode  40 score 500.00 trailing 100 games avg 500.000\n",
      "episode  41 score 500.00 trailing 100 games avg 500.000\n",
      "episode  42 score 500.00 trailing 100 games avg 500.000\n",
      "episode  43 score 500.00 trailing 100 games avg 500.000\n",
      "episode  44 score 500.00 trailing 100 games avg 500.000\n",
      "episode  45 score 500.00 trailing 100 games avg 500.000\n",
      "episode  46 score 500.00 trailing 100 games avg 500.000\n",
      "episode  47 score 500.00 trailing 100 games avg 500.000\n",
      "episode  48 score 500.00 trailing 100 games avg 500.000\n",
      "episode  49 score 500.00 trailing 100 games avg 500.000\n",
      "episode  50 score 500.00 trailing 100 games avg 500.000\n",
      "episode  51 score 500.00 trailing 100 games avg 500.000\n",
      "episode  52 score 500.00 trailing 100 games avg 500.000\n",
      "episode  53 score 500.00 trailing 100 games avg 500.000\n",
      "episode  54 score 500.00 trailing 100 games avg 500.000\n",
      "episode  55 score 500.00 trailing 100 games avg 500.000\n",
      "episode  56 score 500.00 trailing 100 games avg 500.000\n",
      "episode  57 score 500.00 trailing 100 games avg 500.000\n",
      "episode  58 score 500.00 trailing 100 games avg 500.000\n",
      "episode  59 score 500.00 trailing 100 games avg 500.000\n",
      "episode  60 score 500.00 trailing 100 games avg 500.000\n",
      "episode  61 score 500.00 trailing 100 games avg 500.000\n",
      "episode  62 score 500.00 trailing 100 games avg 500.000\n",
      "episode  63 score 500.00 trailing 100 games avg 500.000\n",
      "episode  64 score 500.00 trailing 100 games avg 500.000\n",
      "episode  65 score 500.00 trailing 100 games avg 500.000\n",
      "episode  66 score 500.00 trailing 100 games avg 500.000\n",
      "episode  67 score 500.00 trailing 100 games avg 500.000\n",
      "episode  68 score 500.00 trailing 100 games avg 500.000\n",
      "episode  69 score 500.00 trailing 100 games avg 500.000\n",
      "episode  70 score 500.00 trailing 100 games avg 500.000\n",
      "episode  71 score 500.00 trailing 100 games avg 500.000\n",
      "episode  72 score 500.00 trailing 100 games avg 500.000\n",
      "episode  73 score 500.00 trailing 100 games avg 500.000\n",
      "episode  74 score 500.00 trailing 100 games avg 500.000\n",
      "episode  75 score 500.00 trailing 100 games avg 500.000\n",
      "episode  76 score 500.00 trailing 100 games avg 500.000\n",
      "episode  77 score 500.00 trailing 100 games avg 500.000\n",
      "episode  78 score 500.00 trailing 100 games avg 500.000\n",
      "episode  79 score 500.00 trailing 100 games avg 500.000\n",
      "episode  80 score 500.00 trailing 100 games avg 500.000\n",
      "episode  81 score 500.00 trailing 100 games avg 500.000\n",
      "episode  82 score 500.00 trailing 100 games avg 500.000\n",
      "episode  83 score 500.00 trailing 100 games avg 500.000\n",
      "episode  84 score 500.00 trailing 100 games avg 500.000\n",
      "episode  85 score 500.00 trailing 100 games avg 500.000\n",
      "episode  86 score 500.00 trailing 100 games avg 500.000\n",
      "episode  87 score 500.00 trailing 100 games avg 500.000\n",
      "episode  88 score 500.00 trailing 100 games avg 500.000\n",
      "episode  89 score 500.00 trailing 100 games avg 500.000\n",
      "episode  90 score 500.00 trailing 100 games avg 500.000\n",
      "episode  91 score 500.00 trailing 100 games avg 500.000\n",
      "episode  92 score 500.00 trailing 100 games avg 500.000\n",
      "episode  93 score 500.00 trailing 100 games avg 500.000\n",
      "episode  94 score 500.00 trailing 100 games avg 500.000\n",
      "episode  95 score 500.00 trailing 100 games avg 500.000\n",
      "episode  96 score 500.00 trailing 100 games avg 500.000\n",
      "episode  97 score 500.00 trailing 100 games avg 500.000\n",
      "episode  98 score 500.00 trailing 100 games avg 500.000\n",
      "episode  99 score 500.00 trailing 100 games avg 500.000\n"
     ]
    }
   ],
   "source": [
    "score_history_test = []\n",
    "for i in range(100):\n",
    "    score = 0\n",
    "    done = False\n",
    "    observation, _ = env.reset()\n",
    "    for j in range(500):\n",
    "        action = agent.choose_action_test_stage(observation)\n",
    "        observation_, reward, done, info, _ = env.step(action)\n",
    "        score += reward\n",
    "        observation = observation_\n",
    "        env.render()\n",
    "\n",
    "    score_history_test.append(score)\n",
    "    print('episode ', i, 'score %.2f' % score,\n",
    "          'trailing 100 games avg %.3f' % np.mean(score_history_test[-100:]))"
   ]
  },
  {
   "cell_type": "code",
   "execution_count": null,
   "metadata": {
    "id": "hhOyeSq2wsK1"
   },
   "outputs": [],
   "source": [
    "def theta_omega_policy(obs):\n",
    "    theta, w = obs[2:4]\n",
    "    if abs(theta) < 0.03:\n",
    "        return 0 if w < 0 else 1\n",
    "    else:\n",
    "        return 0 if theta < 0 else 1\n",
    "    "
   ]
  },
  {
   "cell_type": "code",
   "execution_count": 1,
   "metadata": {
    "colab": {
     "base_uri": "https://localhost:8080/",
     "height": 236
    },
    "id": "tE3k1wPGwsK1",
    "outputId": "42420efd-89d0-4e08-86f8-7511fd7d9b6f"
   },
   "outputs": [
    {
     "ename": "NameError",
     "evalue": "ignored",
     "output_type": "error",
     "traceback": [
      "\u001b[0;31m---------------------------------------------------------------------------\u001b[0m",
      "\u001b[0;31mNameError\u001b[0m                                 Traceback (most recent call last)",
      "\u001b[0;32m<ipython-input-1-aa632d8eefab>\u001b[0m in \u001b[0;36m<module>\u001b[0;34m\u001b[0m\n\u001b[0;32m----> 1\u001b[0;31m \u001b[0mplt\u001b[0m\u001b[0;34m.\u001b[0m\u001b[0mplot\u001b[0m\u001b[0;34m(\u001b[0m\u001b[0mscore_history\u001b[0m\u001b[0;34m)\u001b[0m\u001b[0;34m\u001b[0m\u001b[0;34m\u001b[0m\u001b[0m\n\u001b[0m\u001b[1;32m      2\u001b[0m \u001b[0mplt\u001b[0m\u001b[0;34m.\u001b[0m\u001b[0mtitle\u001b[0m\u001b[0;34m(\u001b[0m\u001b[0;34m'Cumulative reward for each episode'\u001b[0m\u001b[0;34m)\u001b[0m\u001b[0;34m\u001b[0m\u001b[0;34m\u001b[0m\u001b[0m\n\u001b[1;32m      3\u001b[0m \u001b[0mplt\u001b[0m\u001b[0;34m.\u001b[0m\u001b[0mylabel\u001b[0m\u001b[0;34m(\u001b[0m\u001b[0;34m'Cumulative reward'\u001b[0m\u001b[0;34m)\u001b[0m\u001b[0;34m\u001b[0m\u001b[0;34m\u001b[0m\u001b[0m\n\u001b[1;32m      4\u001b[0m \u001b[0mplt\u001b[0m\u001b[0;34m.\u001b[0m\u001b[0mxlabel\u001b[0m\u001b[0;34m(\u001b[0m\u001b[0;34m'episode'\u001b[0m\u001b[0;34m)\u001b[0m\u001b[0;34m\u001b[0m\u001b[0;34m\u001b[0m\u001b[0m\n\u001b[1;32m      5\u001b[0m \u001b[0mplt\u001b[0m\u001b[0;34m.\u001b[0m\u001b[0mshow\u001b[0m\u001b[0;34m(\u001b[0m\u001b[0;34m)\u001b[0m\u001b[0;34m\u001b[0m\u001b[0;34m\u001b[0m\u001b[0m\n",
      "\u001b[0;31mNameError\u001b[0m: name 'plt' is not defined"
     ]
    }
   ],
   "source": [
    "plt.plot(score_history)\n",
    "plt.title('Cumulative reward for each episode')\n",
    "plt.ylabel('Cumulative reward')\n",
    "plt.xlabel('episode')\n",
    "plt.show()"
   ]
  },
  {
   "cell_type": "markdown",
   "metadata": {
    "id": "XndSYH7wlvn7"
   },
   "source": [
    "Print the average reward over the 100 episodes."
   ]
  },
  {
   "cell_type": "code",
   "execution_count": null,
   "metadata": {
    "id": "pOiOp9OYlo5Y",
    "outputId": "6c588159-5889-4da5-8c1b-3feb5456eedf"
   },
   "outputs": [
    {
     "name": "stdout",
     "output_type": "stream",
     "text": [
      "Average cumulative reward: 500.0\n",
      "Is my agent good enough? True\n"
     ]
    }
   ],
   "source": [
    "\n",
    "print(\"Average cumulative reward:\", sum(score_history_test)/len(score_history_test))\n",
    "print(\"Is my agent good enough?\", sum(score_history_test)/len(score_history_test) > 195)"
   ]
  },
  {
   "cell_type": "markdown",
   "metadata": {
    "id": "Yg0DCT38lFA6"
   },
   "source": [
    "## Task 3: Render one episode played by the agent"
   ]
  },
  {
   "cell_type": "markdown",
   "metadata": {
    "id": "vx1awMr9lc_w"
   },
   "source": [
    "Plug your agent to the code below to obtain rendered result."
   ]
  },
  {
   "cell_type": "markdown",
   "metadata": {
    "id": "zUhiATQhxlfa"
   },
   "source": []
  },
  {
   "cell_type": "code",
   "execution_count": null,
   "metadata": {
    "colab": {
     "base_uri": "https://localhost:8080/",
     "height": 528
    },
    "id": "LYyavfbIa47D",
    "outputId": "c7371f5c-ae3a-4d98-c0a4-1e60c8e2c636"
   },
   "outputs": [
    {
     "name": "stdout",
     "output_type": "stream",
     "text": [
      "... loading checkpoint ...\n",
      "... loading checkpoint ...\n"
     ]
    },
    {
     "name": "stderr",
     "output_type": "stream",
     "text": [
      "<ipython-input-9-5aa5d321811d>:86: DeprecationWarning: `np.bool` is a deprecated alias for the builtin `bool`. To silence this warning, use `bool` by itself. Doing this will not modify any behavior and is safe. If you specifically wanted the numpy scalar type, use `np.bool_` here.\n",
      "Deprecated in NumPy 1.20; for more details and guidance: https://numpy.org/devdocs/release/1.20.0-notes.html#deprecations\n",
      "  self.terminal_memory = np.zeros(self.mem_size, dtype=np.bool)\n"
     ]
    },
    {
     "data": {
      "text/html": [
       "<video alt=\"test\" autoplay \n",
       "                loop controls style=\"height: 400px;\">\n",
       "                <source src=\"data:video/mp4;base64,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\" type=\"video/mp4\" />\n",
       "             </video>"
      ],
      "text/plain": [
       "<IPython.core.display.HTML object>"
      ]
     },
     "metadata": {},
     "output_type": "display_data"
    }
   ],
   "source": [
    "\n",
    "env = RecordVideo(gym.make(\"CartPole-v1\"), \"./video\")\n",
    "state = env.reset()\n",
    "agent = Agent(gamma=0.99, epsilon=1.0, batch_size=64, n_actions=2, eps_end=0.01, input_dims=[4], lr=0.001)\n",
    "agent.load_models()\n",
    "total_rewards = []\n",
    "done = False\n",
    "\n",
    "while not done:\n",
    "\n",
    "    env.render()\n",
    "    #your agent goes here\n",
    "    action = agent.choose_action_test_stage(state)\n",
    "    #action = theta_omega_policy(state)\n",
    "    observation, reward, done, info = env.step(action)\n",
    "  \n",
    "env.close()\n",
    "show_video()\n"
   ]
  }
 ],
 "metadata": {
  "accelerator": "GPU",
  "colab": {
   "provenance": []
  },
  "gpuClass": "standard",
  "kernelspec": {
   "display_name": "Python 3 (ipykernel)",
   "language": "python",
   "name": "python3"
  },
  "language_info": {
   "codemirror_mode": {
    "name": "ipython",
    "version": 3
   },
   "file_extension": ".py",
   "mimetype": "text/x-python",
   "name": "python",
   "nbconvert_exporter": "python",
   "pygments_lexer": "ipython3",
   "version": "3.9.16"
  }
 },
 "nbformat": 4,
 "nbformat_minor": 1
}
